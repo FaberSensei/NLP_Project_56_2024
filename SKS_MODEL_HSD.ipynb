{
  "cells": [
    {
      "cell_type": "markdown",
      "metadata": {
        "id": "ZXJC2wKSTSm1"
      },
      "source": [
        "# Dataset Preprocessing"
      ]
    },
    {
      "cell_type": "code",
      "execution_count": 1,
      "metadata": {
        "colab": {
          "base_uri": "https://localhost:8080/"
        },
        "id": "jwYI_ManZe4V",
        "outputId": "01dbea57-4873-4d7a-e6c5-a9feb9295599"
      },
      "outputs": [
        {
          "output_type": "stream",
          "name": "stdout",
          "text": [
            "Drive already mounted at /content/drive; to attempt to forcibly remount, call drive.mount(\"/content/drive\", force_remount=True).\n"
          ]
        }
      ],
      "source": [
        "from google.colab import drive\n",
        "drive.mount('/content/drive')"
      ]
    },
    {
      "cell_type": "code",
      "source": [
        "import re\n",
        "import torch\n",
        "import numpy as np\n",
        "import pandas as pd\n",
        "from sklearn.model_selection import train_test_split\n",
        "from torch.utils.data import Dataset, DataLoader\n",
        "from collections import defaultdict\n",
        "from torch.nn.utils.rnn import pad_sequence\n",
        "import torch.nn as nn\n",
        "import torch.nn.functional as F\n",
        "from torch.optim.lr_scheduler import StepLR\n",
        "from tqdm import tqdm\n",
        "\n",
        "\n",
        "df = pd.read_csv('/content/drive/MyDrive/NLP_PJ/labeled_data.csv')\n",
        "df.drop(columns=['count', 'hate_speech', 'offensive_language', 'neither'], inplace=True)\n",
        "\n",
        "def preprocess_text(text):\n",
        "    # Remove patterns like 'RT @username:' from the tweet and the trailing colon\n",
        "    text = re.sub(r'!+\\s*RT\\s*@[\\w_]+\\s*:?\\s*', '', text, flags=re.IGNORECASE)\n",
        "    text = re.sub(r'@\\w+', '', text)\n",
        "    text = re.sub(r':\\s*', '', text)\n",
        "    text = re.sub(r'[^a-zA-Z0-9\\s]', '', text)\n",
        "    # Remove emojis (including unicode emojis like '&#128517;')\n",
        "    text = re.sub(r'&#\\d+;', '', text)\n",
        "    # Remove hashtags\n",
        "    text = re.sub(r'#\\w+', '', text)\n",
        "    # Remove URLs\n",
        "    text = re.sub(r'http\\S+', '', text)\n",
        "    # Convert tweet text to lowercase\n",
        "    text = text.lower()\n",
        "    # Remove extra whitespaces\n",
        "    text = text.strip()\n",
        "    return text\n",
        "\n",
        "df['tweet'] = df['tweet'].apply(preprocess_text)\n",
        "df = df[df['tweet'].str.len() > 2]\n",
        "\n",
        "df.rename(columns={'Unnamed: 0': 'index'}, inplace=True)\n",
        "\n",
        "print(df['tweet'][15534])\n",
        "\n",
        "train_data, test_data = train_test_split(df, test_size=0.2, random_state=42)\n",
        "train_data, val_data = train_test_split(train_data, test_size=0.2, random_state=42)\n",
        "\n",
        "import matplotlib.pyplot as plt\n",
        "\n",
        "# Compute sequence lengths\n",
        "sequence_lengths = [len(text.split()) for text in df['tweet']]\n",
        "\n",
        "# Plot histogram\n",
        "plt.hist(sequence_lengths, bins=50)\n",
        "plt.xlabel('Sequence Length')\n",
        "plt.ylabel('Frequency')\n",
        "plt.title('Distribution of Sequence Lengths')\n",
        "plt.show()\n",
        "\n",
        "# Choose a percentile (e.g., 95th percentile)\n",
        "percentile_value = 95\n",
        "max_length = int(np.percentile(sequence_lengths, percentile_value))\n",
        "print(f\"Chosen maximum length: {max_length}\")"
      ],
      "metadata": {
        "colab": {
          "base_uri": "https://localhost:8080/",
          "height": 527
        },
        "id": "b06Uw2QWVBaf",
        "outputId": "84b2ade4-9a4b-461f-bf33-77f64fb81818"
      },
      "execution_count": 2,
      "outputs": [
        {
          "output_type": "stream",
          "name": "stdout",
          "text": [
            "rt if you dont like my tweets with my belief in jesus christ please respect it but dont mock it or make negative remarks8230\n"
          ]
        },
        {
          "output_type": "display_data",
          "data": {
            "text/plain": [
              "<Figure size 640x480 with 1 Axes>"
            ],
            "image/png": "[encoded data removed]"
          },
          "metadata": {}
        },
        {
          "output_type": "stream",
          "name": "stdout",
          "text": [
            "Chosen maximum length: 25\n"
          ]
        }
      ]
    },
    {
      "cell_type": "code",
      "source": [
        "import torch\n",
        "import torch.nn as nn\n",
        "import torch.nn.functional as F\n",
        "from torch.utils.data import Dataset, DataLoader\n",
        "from torch.nn.utils.rnn import pad_sequence\n",
        "from collections import defaultdict\n",
        "from tqdm import tqdm\n",
        "\n",
        "class CustomDataset(Dataset):\n",
        "    def __init__(self, data, max_seq_length):\n",
        "        self.data = data\n",
        "        self.max_seq_length = max_seq_length\n",
        "        self.word_to_index = defaultdict(lambda: len(self.word_to_index) + 1)\n",
        "        self.word_to_index['[UNK]'] = 0  # For unknown words\n",
        "        self.category_to_index = {0: 'hate speech', 1: 'offensive language', 2: 'neither'}\n",
        "\n",
        "    def __len__(self):\n",
        "        return len(self.data)\n",
        "\n",
        "    def __getitem__(self, idx):\n",
        "        sample = self.data.iloc[idx]\n",
        "        word_indices = [self.word_to_index.get(word, self.word_to_index['[UNK]']) for word in sample['tweet'].split()]\n",
        "        category_index = int(sample['class'])  # Ensure it's an integer\n",
        "        padding_length = self.max_seq_length - len(word_indices)\n",
        "        word_indices += [0] * padding_length if padding_length > 0 else []\n",
        "\n",
        "        return {\n",
        "            'word_indices': torch.tensor(word_indices, dtype=torch.long),\n",
        "            'category_index': torch.tensor(category_index, dtype=torch.long),\n",
        "            'label': torch.tensor(category_index, dtype=torch.long)\n",
        "        }\n",
        "\n",
        "class MultiHeadAttention(nn.Module):\n",
        "    def __init__(self, d_model, num_heads):\n",
        "        super(MultiHeadAttention, self).__init__()\n",
        "        self.num_heads = num_heads\n",
        "        self.d_model = d_model\n",
        "        assert d_model % num_heads == 0\n",
        "        self.depth = d_model // num_heads\n",
        "\n",
        "        self.WQ = nn.Linear(d_model, d_model)\n",
        "        self.WK = nn.Linear(d_model, d_model)\n",
        "        self.WV = nn.Linear(d_model, d_model)\n",
        "\n",
        "        self.fc = nn.Linear(d_model, d_model)\n",
        "\n",
        "    def forward(self, query, key, value):\n",
        "        batch_size = query.size(0)\n",
        "\n",
        "        query = self.WQ(query).view(batch_size, -1, self.num_heads, self.depth)\n",
        "        key = self.WK(key).view(batch_size, -1, self.num_heads, self.depth)\n",
        "        value = self.WV(value).view(batch_size, -1, self.num_heads, self.depth)\n",
        "\n",
        "        query = query.permute(0, 2, 1, 3)\n",
        "        key = key.permute(0, 2, 1, 3)\n",
        "        value = value.permute(0, 2, 1, 3)\n",
        "\n",
        "        scores = torch.matmul(query, key.transpose(-2, -1)) / torch.sqrt(torch.tensor(self.depth, dtype=torch.float32))\n",
        "        attention_weights = F.softmax(scores, dim=-1)\n",
        "\n",
        "        output = torch.matmul(attention_weights, value)\n",
        "        output = output.permute(0, 2, 1, 3).contiguous().view(batch_size, -1, self.d_model)\n",
        "\n",
        "        return self.fc(output)\n",
        "\n",
        "class SKSModel(nn.Module):\n",
        "    def __init__(self, vocab_size, max_seq_length, num_categories, embedding_dim, num_heads, d_model, num_tasks):\n",
        "        super(SKSModel, self).__init__()\n",
        "        self.embedding = nn.Embedding(vocab_size, embedding_dim, padding_idx=0)\n",
        "        self.category_embedding = nn.Embedding(num_categories, embedding_dim)\n",
        "        self.concat = nn.Linear(embedding_dim * 2, 64)\n",
        "        self.multi_head_attention = MultiHeadAttention(d_model, num_heads)\n",
        "        self.gated_attention = nn.ModuleList([nn.Linear(d_model, 1) for _ in range(num_tasks)])\n",
        "        self.output_layers = nn.ModuleList([nn.Linear(d_model, num_categories) for _ in range(num_tasks)])\n",
        "\n",
        "    def forward(self, word_input, category_input):\n",
        "        word_embedded = self.embedding(word_input)\n",
        "        category_embedded = self.category_embedding(category_input)\n",
        "        category_embedded = category_embedded.unsqueeze(1).expand(-1, word_embedded.size(1), -1)\n",
        "\n",
        "        concatenated_embedded = torch.cat((word_embedded, category_embedded), dim=-1)\n",
        "        concatenated_embedded = F.relu(self.concat(concatenated_embedded))\n",
        "\n",
        "        attention_output = self.multi_head_attention(concatenated_embedded, concatenated_embedded, concatenated_embedded)\n",
        "        gated_attention_outputs = [output_layer(torch.sigmoid(gate(attention_output)) * attention_output) for gate, output_layer in zip(self.gated_attention, self.output_layers)]\n",
        "\n",
        "        pooled_output = attention_output.mean(dim=1)  # Global average pooling\n",
        "        final_output = self.output_layers[0](pooled_output)  # Assuming a single task for simplicity\n",
        "        return final_output\n",
        "\n",
        "def collate_batch(batch):\n",
        "    word_indices = [item['word_indices'] for item in batch]\n",
        "    category_indices = [item['category_index'] for item in batch]\n",
        "    labels = [item['label'] for item in batch]\n",
        "\n",
        "    word_indices_padded = pad_sequence(word_indices, batch_first=True, padding_value=0)\n",
        "    category_indices = torch.tensor(category_indices, dtype=torch.long)\n",
        "    labels = torch.tensor(labels, dtype=torch.long)\n",
        "\n",
        "    return {'word_indices': word_indices_padded, 'category_index': category_indices, 'label': labels}\n",
        "\n",
        "# Example usage\n",
        "vocab_size = 10000\n",
        "num_categories = 3\n",
        "embedding_dim = 100\n",
        "num_heads = 4\n",
        "d_model = 64\n",
        "num_tasks = 3\n",
        "batch_size = 16\n",
        "\n",
        "# Assuming you have train_data and val_data available\n",
        "train_dataset = CustomDataset(train_data, max_seq_length=25)\n",
        "val_dataset = CustomDataset(val_data, max_seq_length=25)\n",
        "\n",
        "train_loader = DataLoader(train_dataset, batch_size=batch_size, collate_fn=collate_batch)\n",
        "val_loader = DataLoader(val_dataset, batch_size=batch_size, collate_fn=collate_batch)\n",
        "device = torch.device(\"cpu\")\n",
        "model = SKSModel(vocab_size, 25, num_categories, embedding_dim, num_heads, d_model, num_tasks).to(device)\n",
        "optimizer = torch.optim.Adam(model.parameters(), lr=0.001)\n",
        "criterion = nn.CrossEntropyLoss()\n",
        "\n",
        "training_losses = []\n",
        "val_losses = []\n",
        "\n",
        "# Training loop\n",
        "num_epochs = 7\n",
        "for epoch in range(num_epochs):\n",
        "    model.train()\n",
        "    train_loss = 0.0\n",
        "    train_bar = tqdm(train_loader, desc=f\"Training Epoch {epoch+1}\")\n",
        "    for batch in train_bar:\n",
        "        optimizer.zero_grad()\n",
        "        word_input = batch['word_indices'].to(device)\n",
        "        category_input = batch['category_index'].to(device)\n",
        "        labels = batch['label'].to(device)\n",
        "\n",
        "        outputs = model(word_input, category_input)\n",
        "        loss = criterion(outputs, labels)\n",
        "        loss.backward()\n",
        "        optimizer.step()\n",
        "\n",
        "        train_loss += loss.item() * word_input.size(0)\n",
        "        train_bar.set_postfix(loss=(train_loss/len(train_loader.dataset)))\n",
        "\n",
        "    model.eval()\n",
        "    val_loss = 0.0\n",
        "    val_bar = tqdm(val_loader, desc=f\"Validating Epoch {epoch+1}\")\n",
        "    with torch.no_grad():\n",
        "        for batch in val_bar:\n",
        "            word_input = batch['word_indices'].to(device)\n",
        "            category_input = batch['category_index'].to(device)\n",
        "            labels = batch['label'].to(device)\n",
        "\n",
        "            outputs = model(word_input, category_input)\n",
        "            loss = criterion(outputs, labels)\n",
        "            val_loss += loss.item() * word_input.size(0)\n",
        "            val_bar.set_postfix(loss=(val_loss/len(val_loader.dataset)))\n",
        "\n",
        "    print(f'Epoch {epoch+1}/{num_epochs}, Train Loss: {train_loss/len(train_loader.dataset)}, Val Loss: {val_loss/len(val_loader.dataset)}')\n",
        "\n",
        "    training_losses.append(train_loss/len(train_loader.dataset))\n",
        "    val_losses.append(val_loss/len(val_loader.dataset))"
      ],
      "metadata": {
        "colab": {
          "base_uri": "https://localhost:8080/"
        },
        "id": "0E5R-W8uaMp9",
        "outputId": "38ef6ff4-46ce-4572-9b56-3aeaa0d31621"
      },
      "execution_count": 8,
      "outputs": [
        {
          "output_type": "stream",
          "name": "stderr",
          "text": [
            "Training Epoch 1: 100%|██████████| 992/992 [00:31<00:00, 31.42it/s, loss=0.0108]\n",
            "Validating Epoch 1: 100%|██████████| 248/248 [00:02<00:00, 111.76it/s, loss=6.22e-6]\n"
          ]
        },
        {
          "output_type": "stream",
          "name": "stdout",
          "text": [
            "Epoch 1/7, Train Loss: 0.010822036881497858, Val Loss: 6.224927455161013e-06\n"
          ]
        },
        {
          "output_type": "stream",
          "name": "stderr",
          "text": [
            "Training Epoch 2: 100%|██████████| 992/992 [00:30<00:00, 32.02it/s, loss=3.46e-6]\n",
            "Validating Epoch 2: 100%|██████████| 248/248 [00:05<00:00, 49.25it/s, loss=1.81e-6]\n"
          ]
        },
        {
          "output_type": "stream",
          "name": "stdout",
          "text": [
            "Epoch 2/7, Train Loss: 3.4638350263001067e-06, Val Loss: 1.8111006410831759e-06\n"
          ]
        },
        {
          "output_type": "stream",
          "name": "stderr",
          "text": [
            "Training Epoch 3: 100%|██████████| 992/992 [00:38<00:00, 25.94it/s, loss=1.2e-6]\n",
            "Validating Epoch 3: 100%|██████████| 248/248 [00:02<00:00, 96.00it/s, loss=7.95e-7]\n"
          ]
        },
        {
          "output_type": "stream",
          "name": "stdout",
          "text": [
            "Epoch 3/7, Train Loss: 1.1976386962336203e-06, Val Loss: 7.954495191829933e-07\n"
          ]
        },
        {
          "output_type": "stream",
          "name": "stderr",
          "text": [
            "Training Epoch 4: 100%|██████████| 992/992 [00:29<00:00, 34.02it/s, loss=5.28e-7]\n",
            "Validating Epoch 4: 100%|██████████| 248/248 [00:05<00:00, 45.34it/s, loss=3.91e-7]\n"
          ]
        },
        {
          "output_type": "stream",
          "name": "stdout",
          "text": [
            "Epoch 4/7, Train Loss: 5.283614976475271e-07, Val Loss: 3.9081158352750514e-07\n"
          ]
        },
        {
          "output_type": "stream",
          "name": "stderr",
          "text": [
            "Training Epoch 5: 100%|██████████| 992/992 [00:36<00:00, 26.81it/s, loss=2.98e-7]\n",
            "Validating Epoch 5: 100%|██████████| 248/248 [00:03<00:00, 63.58it/s, loss=9.28e-8]\n"
          ]
        },
        {
          "output_type": "stream",
          "name": "stdout",
          "text": [
            "Epoch 5/7, Train Loss: 2.98128400953809e-07, Val Loss: 9.28185111284373e-08\n"
          ]
        },
        {
          "output_type": "stream",
          "name": "stderr",
          "text": [
            "Training Epoch 6: 100%|██████████| 992/992 [00:32<00:00, 30.63it/s, loss=7.49e-8]\n",
            "Validating Epoch 6: 100%|██████████| 248/248 [00:02<00:00, 106.68it/s, loss=5.96e-8]\n"
          ]
        },
        {
          "output_type": "stream",
          "name": "stdout",
          "text": [
            "Epoch 6/7, Train Loss: 7.489288634623706e-08, Val Loss: 5.9574578989030934e-08\n"
          ]
        },
        {
          "output_type": "stream",
          "name": "stderr",
          "text": [
            "Training Epoch 7: 100%|██████████| 992/992 [00:28<00:00, 34.38it/s, loss=4.11e-8]\n",
            "Validating Epoch 7: 100%|██████████| 248/248 [00:02<00:00, 106.35it/s, loss=2.63e-8]"
          ]
        },
        {
          "output_type": "stream",
          "name": "stdout",
          "text": [
            "Epoch 7/7, Train Loss: 4.111442263387396e-08, Val Loss: 2.6330642951134925e-08\n"
          ]
        },
        {
          "output_type": "stream",
          "name": "stderr",
          "text": [
            "\n"
          ]
        }
      ]
    },
    {
      "cell_type": "code",
      "source": [
        "# manually editing train_losses[0] to be able to see the graph\n",
        "\n",
        "training_losses[0] = training_losses[1]\n",
        "\n",
        "import matplotlib.pyplot as plt\n",
        "# Plot training losses\n",
        "plt.figure(figsize=(10, 5))\n",
        "plt.plot(range(1, num_epochs + 1), training_losses, label='Train Loss')\n",
        "plt.plot(range(1, num_epochs + 1), val_losses, label='Validation Loss')\n",
        "plt.xlabel('Epochs')\n",
        "plt.ylabel('Loss')\n",
        "plt.title('Training vs Validation Loss over Epochs')\n",
        "plt.legend()\n",
        "plt.show()"
      ],
      "metadata": {
        "colab": {
          "base_uri": "https://localhost:8080/",
          "height": 466
        },
        "id": "NKuu_5LJcDTz",
        "outputId": "81ad081b-10c5-4d05-ba1e-ba6012ed5009"
      },
      "execution_count": 13,
      "outputs": [
        {
          "output_type": "display_data",
          "data": {
            "text/plain": [
              "<Figure size 1000x500 with 1 Axes>"
            ],
            "image/png": "[encoded data removed]"
          },
          "metadata": {}
        }
      ]
    },
    {
      "cell_type": "markdown",
      "source": [
        "# DEMO"
      ],
      "metadata": {
        "id": "1-zw0Q-ScgDH"
      }
    },
    {
      "cell_type": "code",
      "source": [
        "import os\n",
        "\n",
        "def save_checkpoint(model, filepath=None, default_dir=\"/content/drive/MyDrive/NLP_PJ\", default_filename=\"sks_model_checkpoint.pth\"):\n",
        "\n",
        "    if filepath is None or not os.path.exists(os.path.dirname(filepath)):\n",
        "        # Create the default directory if it doesn't exist\n",
        "        os.makedirs(default_dir, exist_ok=True)\n",
        "        filepath = os.path.join(default_dir, default_filename)\n",
        "\n",
        "    checkpoint = {\n",
        "        'state_dict': model.state_dict()\n",
        "    }\n",
        "\n",
        "    torch.save(checkpoint, filepath)\n",
        "    print(\"Model checkpoint saved successfully at:\", filepath)\n",
        "\n",
        "def load_checkpoint(model_class, filepath=\"/content/drive/MyDrive/NLP_PJ/sks_model_checkpoint.pth\", device=torch.device(\"cpu\")):\n",
        "    checkpoint = torch.load(filepath, map_location=device)\n",
        "\n",
        "    model = model_class(\n",
        "        max_seq_length=checkpoint['max_seq_length'],\n",
        "        num_categories=checkpoint['num_categories'],\n",
        "        embedding_dim=checkpoint['embedding_dim'],\n",
        "        num_heads=checkpoint['num_heads'],\n",
        "        d_model=checkpoint['d_model'],\n",
        "        num_tasks=checkpoint['num_tasks']\n",
        "    )\n",
        "    model.load_state_dict(checkpoint['state_dict'])\n",
        "\n",
        "    print(\"Model checkpoint loaded successfully.\")\n",
        "\n",
        "    return model\n",
        "\n"
      ],
      "metadata": {
        "id": "9QpFtx4JckEf"
      },
      "execution_count": 35,
      "outputs": []
    },
    {
      "cell_type": "code",
      "source": [
        "save_checkpoint(model)"
      ],
      "metadata": {
        "colab": {
          "base_uri": "https://localhost:8080/"
        },
        "id": "oQ0AHmrrete2",
        "outputId": "ae17f04f-6a0c-42f8-8e05-2d98ab74a178"
      },
      "execution_count": 36,
      "outputs": [
        {
          "output_type": "stream",
          "name": "stdout",
          "text": [
            "Model checkpoint saved successfully at: /content/drive/MyDrive/NLP_PJ/sks_model_checkpoint.pth\n"
          ]
        }
      ]
    },
    {
      "cell_type": "code",
      "source": [
        "test_dataset = CustomDataset(test_data, max_seq_length=25)\n",
        "\n",
        "test_loader = DataLoader(test_dataset, batch_size=batch_size, collate_fn=collate_batch)"
      ],
      "metadata": {
        "id": "1GFD2sASeoh-"
      },
      "execution_count": null,
      "outputs": []
    },
    {
      "cell_type": "code",
      "source": [
        "loaded_model = load_checkpoint(SKSTModel)\n",
        "weighted_f1, macro_f1 = calculate_f1_score(loaded_model, test_loader, device)"
      ],
      "metadata": {
        "id": "xz52g0MdesbB"
      },
      "execution_count": null,
      "outputs": []
    }
  ],
  "metadata": {
    "colab": {
      "provenance": [],
      "gpuType": "T4"
    },
    "kernelspec": {
      "display_name": "Python 3",
      "name": "python3"
    },
    "language_info": {
      "name": "python"
    },
    "accelerator": "GPU"
  },
  "nbformat": 4,
  "nbformat_minor": 0
}